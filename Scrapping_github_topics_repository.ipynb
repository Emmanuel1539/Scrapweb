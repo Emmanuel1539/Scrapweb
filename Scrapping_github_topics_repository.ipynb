{
 "cells": [
  {
   "cell_type": "markdown",
   "metadata": {
    "id": "r3f2mk3LWAX7"
   },
   "source": [
    "# Github Top Repository Topics\n",
    "-This project was designed to scrap and extract useful information from the Github website to answer some analytical questions, like the top 10-20 leading topics, repositories and URLs. Other information can also be extracted further using this techniques. "
   ]
  },
  {
   "cell_type": "markdown",
   "metadata": {
    "id": "kLDz5HsDWAYP"
   },
   "source": [
    "## Project objectives\n",
    "\n",
    "    -Browse through the sites to scrape.\n",
    "    -Check the \"Project Ideas\" section for inspiration.\n",
    "    -Identify the information you'd like to scrape from the site. \n",
    "    -Decide the format of the output CSV file.\n",
    "    -Summarize your project idea and outline your strategy in a Juptyer notebook.\n",
    "    -Use the \"New\" button above.\n",
    "\n",
    "\n",
    "\n",
    "\n",
    "\n"
   ]
  },
  {
   "cell_type": "markdown",
   "metadata": {
    "id": "2MrFAvWsWAYX"
   },
   "source": [
    "## Use the requests library to download web pages\n",
    "\n",
    "\n"
   ]
  },
  {
   "cell_type": "code",
   "execution_count": 1,
   "metadata": {
    "id": "qhZmesIgWAYY"
   },
   "outputs": [],
   "source": [
    "import requests"
   ]
  },
  {
   "cell_type": "code",
   "execution_count": 2,
   "metadata": {
    "id": "mwn4wb2ZWAYb"
   },
   "outputs": [],
   "source": [
    "topics_url = 'https://github.com/topics'"
   ]
  },
  {
   "cell_type": "code",
   "execution_count": 3,
   "metadata": {
    "id": "dDP931qeWAYc"
   },
   "outputs": [],
   "source": [
    "response = requests.get(topics_url)"
   ]
  },
  {
   "cell_type": "code",
   "execution_count": 4,
   "metadata": {
    "id": "fPQZ9F5gWAYd",
    "outputId": "1c831d28-09d3-4930-f8fc-532c1f642ffb"
   },
   "outputs": [
    {
     "data": {
      "text/plain": [
       "200"
      ]
     },
     "execution_count": 4,
     "metadata": {},
     "output_type": "execute_result"
    }
   ],
   "source": [
    "response.status_code"
   ]
  },
  {
   "cell_type": "code",
   "execution_count": 5,
   "metadata": {
    "id": "Jka8N27pWAYf",
    "outputId": "018ff8af-9918-4f08-894e-48165a163649"
   },
   "outputs": [
    {
     "data": {
      "text/plain": [
       "154175"
      ]
     },
     "execution_count": 5,
     "metadata": {},
     "output_type": "execute_result"
    }
   ],
   "source": [
    "len(response.text)"
   ]
  },
  {
   "cell_type": "code",
   "execution_count": 28,
   "metadata": {
    "id": "SMqVU9NfWAYg"
   },
   "outputs": [],
   "source": [
    "page_contents = response.text #extracting the page text codes"
   ]
  },
  {
   "cell_type": "markdown",
   "metadata": {
    "id": "BqrVIQfTWAYh"
   },
   "source": [
    "## Use Beautiful Soup to parse and extract information\n",
    "\n"
   ]
  },
  {
   "cell_type": "code",
   "execution_count": 7,
   "metadata": {
    "id": "phSYELCIWAYi"
   },
   "outputs": [],
   "source": [
    "from bs4 import BeautifulSoup"
   ]
  },
  {
   "cell_type": "code",
   "execution_count": 8,
   "metadata": {
    "id": "vrHFwXKaWAYi"
   },
   "outputs": [],
   "source": [
    "doc = BeautifulSoup(page_contents, 'html.parser')"
   ]
  },
  {
   "cell_type": "code",
   "execution_count": 9,
   "metadata": {
    "id": "xmrWNvoCWAYj",
    "outputId": "676258c9-0e1a-4456-a12a-9ec2f50c24b4"
   },
   "outputs": [
    {
     "data": {
      "text/plain": [
       "bs4.BeautifulSoup"
      ]
     },
     "execution_count": 9,
     "metadata": {},
     "output_type": "execute_result"
    }
   ],
   "source": [
    "type(doc)"
   ]
  },
  {
   "cell_type": "code",
   "execution_count": 10,
   "metadata": {
    "id": "pCW26mN-WAYj"
   },
   "outputs": [],
   "source": [
    "# to get all the p tags, select the p class\n",
    "selection_class = 'f3 lh-condensed mb-0 mt-1 Link--primary'\n",
    "\n",
    "topic_title_tags = doc.find_all('p', {'class': selection_class})"
   ]
  },
  {
   "cell_type": "code",
   "execution_count": 11,
   "metadata": {
    "id": "Qhyjuhx6WAYk",
    "outputId": "002219a7-ee50-44f4-d1c9-e5461eab852e"
   },
   "outputs": [
    {
     "data": {
      "text/plain": [
       "30"
      ]
     },
     "execution_count": 11,
     "metadata": {},
     "output_type": "execute_result"
    }
   ],
   "source": [
    "#check the lenght of the first page\n",
    "\n",
    "len(topic_title_tags)"
   ]
  },
  {
   "cell_type": "code",
   "execution_count": 12,
   "metadata": {
    "id": "ooku8JI2WAYk",
    "outputId": "e8f3ff9e-2226-4e15-d22b-7b7feaac9c15"
   },
   "outputs": [
    {
     "data": {
      "text/plain": [
       "[<p class=\"f3 lh-condensed mb-0 mt-1 Link--primary\">3D</p>,\n",
       " <p class=\"f3 lh-condensed mb-0 mt-1 Link--primary\">Ajax</p>,\n",
       " <p class=\"f3 lh-condensed mb-0 mt-1 Link--primary\">Algorithm</p>,\n",
       " <p class=\"f3 lh-condensed mb-0 mt-1 Link--primary\">Amp</p>,\n",
       " <p class=\"f3 lh-condensed mb-0 mt-1 Link--primary\">Android</p>]"
      ]
     },
     "execution_count": 12,
     "metadata": {},
     "output_type": "execute_result"
    }
   ],
   "source": [
    "#take a look on the first 5 topic tags\n",
    "topic_title_tags[:5]"
   ]
  },
  {
   "cell_type": "code",
   "execution_count": 13,
   "metadata": {
    "id": "DyW40whxWAYl"
   },
   "outputs": [],
   "source": [
    "#select all the desc tags\n",
    "topic_desc_tags = doc.find_all('p',{'class' : 'f5 color-fg-muted mb-0 mt-1'})"
   ]
  },
  {
   "cell_type": "code",
   "execution_count": 14,
   "metadata": {
    "id": "1N1xgWXIWAYl",
    "outputId": "e1f8abd5-ae37-461c-b584-1fba0d35ddfd",
    "scrolled": true
   },
   "outputs": [
    {
     "data": {
      "text/plain": [
       "[<p class=\"f5 color-fg-muted mb-0 mt-1\">\n",
       "           3D refers to the use of three-dimensional graphics, modeling, and animation in various industries.\n",
       "         </p>,\n",
       " <p class=\"f5 color-fg-muted mb-0 mt-1\">\n",
       "           Ajax is a technique for creating interactive web applications.\n",
       "         </p>]"
      ]
     },
     "execution_count": 14,
     "metadata": {},
     "output_type": "execute_result"
    }
   ],
   "source": [
    "#view first 2 desc tags\n",
    "topic_desc_tags[:2]"
   ]
  },
  {
   "cell_type": "code",
   "execution_count": 15,
   "metadata": {
    "id": "cnfIG7wWWAYm"
   },
   "outputs": [],
   "source": [
    "#select all topic urls\n",
    "topic_link_tags = doc.find_all('a', {'class': 'no-underline flex-grow-0'})"
   ]
  },
  {
   "cell_type": "code",
   "execution_count": 16,
   "metadata": {
    "id": "hbLluLy7WAYm",
    "outputId": "17f81474-3dba-4d2a-b0d7-c274a3a4d3ea"
   },
   "outputs": [
    {
     "data": {
      "text/plain": [
       "30"
      ]
     },
     "execution_count": 16,
     "metadata": {},
     "output_type": "execute_result"
    }
   ],
   "source": [
    "len(topic_link_tags)"
   ]
  },
  {
   "cell_type": "code",
   "execution_count": 17,
   "metadata": {
    "id": "oSP4IeoCWAYn",
    "outputId": "a35bed69-3caa-4d18-d760-79257ff31aaa"
   },
   "outputs": [
    {
     "data": {
      "text/plain": [
       "'/topics/3d'"
      ]
     },
     "execution_count": 17,
     "metadata": {},
     "output_type": "execute_result"
    }
   ],
   "source": [
    "#get only the href of the link tag\n",
    "topic_link_tags[0]['href']"
   ]
  },
  {
   "cell_type": "code",
   "execution_count": null,
   "metadata": {
    "id": "9CGdAxmqWAYn"
   },
   "outputs": [],
   "source": []
  },
  {
   "cell_type": "code",
   "execution_count": 18,
   "metadata": {
    "id": "NsOjGRwKWAYn"
   },
   "outputs": [],
   "source": [
    "#get the full url\n",
    "topic0_url = 'https://github.com' + topic_link_tags[0]['href']"
   ]
  },
  {
   "cell_type": "code",
   "execution_count": 19,
   "metadata": {
    "id": "7ZZq_DroWAYo",
    "outputId": "e7e51d22-1215-47ee-9b41-6d0eb849f853"
   },
   "outputs": [
    {
     "name": "stdout",
     "output_type": "stream",
     "text": [
      "https://github.com/topics/3d\n"
     ]
    }
   ],
   "source": [
    "print(topic0_url)"
   ]
  },
  {
   "cell_type": "code",
   "execution_count": 20,
   "metadata": {
    "id": "YwQldZXpWAYo",
    "outputId": "8925c8c8-22c4-4d58-8d50-736a7c7df434"
   },
   "outputs": [
    {
     "name": "stdout",
     "output_type": "stream",
     "text": [
      "['3D', 'Ajax', 'Algorithm']\n"
     ]
    }
   ],
   "source": [
    "#get the lists of the topic titles\n",
    "topic_titles = []\n",
    "\n",
    "for tag in topic_title_tags:\n",
    "    topic_titles.append(tag.text)\n",
    "print(topic_titles[:3])"
   ]
  },
  {
   "cell_type": "code",
   "execution_count": 21,
   "metadata": {
    "id": "6XueOLpCWAYp",
    "outputId": "f9513a38-dee4-4ab2-b1d0-54205e39fdf6"
   },
   "outputs": [
    {
     "name": "stdout",
     "output_type": "stream",
     "text": [
      "['3D refers to the use of three-dimensional graphics, modeling, and animation in various industries.', 'Ajax is a technique for creating interactive web applications.', 'Algorithms are self-contained sequences that carry out a variety of tasks.']\n"
     ]
    }
   ],
   "source": [
    "#get the lists of the topic desc\n",
    "topic_desc = []\n",
    "\n",
    "for desc in topic_desc_tags:\n",
    "    topic_desc.append(desc.text.strip())\n",
    "    \n",
    "print(topic_desc[:3])"
   ]
  },
  {
   "cell_type": "code",
   "execution_count": 22,
   "metadata": {
    "id": "XJwZp6RSWAYp",
    "outputId": "8e4e38e1-c3f2-4743-86d2-4c7d459ccd03"
   },
   "outputs": [
    {
     "data": {
      "text/plain": [
       "['https://github.com/topics/3d',\n",
       " 'https://github.com/topics/ajax',\n",
       " 'https://github.com/topics/algorithm',\n",
       " 'https://github.com/topics/amphp',\n",
       " 'https://github.com/topics/android']"
      ]
     },
     "execution_count": 22,
     "metadata": {},
     "output_type": "execute_result"
    }
   ],
   "source": [
    "#get the lists of topic urls\n",
    "topic_urls = []\n",
    "base_url = 'https://github.com'\n",
    "\n",
    "for urls in topic_link_tags:\n",
    "    topic_urls.append(base_url + urls['href'])\n",
    "\n",
    "topic_urls[:5]"
   ]
  },
  {
   "cell_type": "code",
   "execution_count": 23,
   "metadata": {
    "id": "XTvkwhACWAYq"
   },
   "outputs": [],
   "source": [
    "import pandas as pd "
   ]
  },
  {
   "cell_type": "code",
   "execution_count": 24,
   "metadata": {
    "id": "1qFQzsuKWAYq"
   },
   "outputs": [],
   "source": [
    "#cast all the 3 list in pandas dataframe\n",
    "topic_dict = {'Topic_titles': topic_titles, \n",
    "              'Topic_descriptions': topic_desc, \n",
    "              'Topic_urls': topic_urls}"
   ]
  },
  {
   "cell_type": "code",
   "execution_count": 25,
   "metadata": {
    "id": "moMUAqJbWAYq"
   },
   "outputs": [],
   "source": [
    "topic_df = pd.DataFrame(topic_dict)"
   ]
  },
  {
   "cell_type": "code",
   "execution_count": 26,
   "metadata": {
    "id": "DqwTcQRPWAYr",
    "outputId": "a096309e-8cb9-4211-83f3-89434a267891"
   },
   "outputs": [
    {
     "data": {
      "text/html": [
       "<div>\n",
       "<style scoped>\n",
       "    .dataframe tbody tr th:only-of-type {\n",
       "        vertical-align: middle;\n",
       "    }\n",
       "\n",
       "    .dataframe tbody tr th {\n",
       "        vertical-align: top;\n",
       "    }\n",
       "\n",
       "    .dataframe thead th {\n",
       "        text-align: right;\n",
       "    }\n",
       "</style>\n",
       "<table border=\"1\" class=\"dataframe\">\n",
       "  <thead>\n",
       "    <tr style=\"text-align: right;\">\n",
       "      <th></th>\n",
       "      <th>Topic_titles</th>\n",
       "      <th>Topic_descriptions</th>\n",
       "      <th>Topic_urls</th>\n",
       "    </tr>\n",
       "  </thead>\n",
       "  <tbody>\n",
       "    <tr>\n",
       "      <th>0</th>\n",
       "      <td>3D</td>\n",
       "      <td>3D refers to the use of three-dimensional grap...</td>\n",
       "      <td>https://github.com/topics/3d</td>\n",
       "    </tr>\n",
       "    <tr>\n",
       "      <th>1</th>\n",
       "      <td>Ajax</td>\n",
       "      <td>Ajax is a technique for creating interactive w...</td>\n",
       "      <td>https://github.com/topics/ajax</td>\n",
       "    </tr>\n",
       "    <tr>\n",
       "      <th>2</th>\n",
       "      <td>Algorithm</td>\n",
       "      <td>Algorithms are self-contained sequences that c...</td>\n",
       "      <td>https://github.com/topics/algorithm</td>\n",
       "    </tr>\n",
       "    <tr>\n",
       "      <th>3</th>\n",
       "      <td>Amp</td>\n",
       "      <td>Amp is a non-blocking concurrency library for ...</td>\n",
       "      <td>https://github.com/topics/amphp</td>\n",
       "    </tr>\n",
       "    <tr>\n",
       "      <th>4</th>\n",
       "      <td>Android</td>\n",
       "      <td>Android is an operating system built by Google...</td>\n",
       "      <td>https://github.com/topics/android</td>\n",
       "    </tr>\n",
       "  </tbody>\n",
       "</table>\n",
       "</div>"
      ],
      "text/plain": [
       "  Topic_titles                                 Topic_descriptions  \\\n",
       "0           3D  3D refers to the use of three-dimensional grap...   \n",
       "1         Ajax  Ajax is a technique for creating interactive w...   \n",
       "2    Algorithm  Algorithms are self-contained sequences that c...   \n",
       "3          Amp  Amp is a non-blocking concurrency library for ...   \n",
       "4      Android  Android is an operating system built by Google...   \n",
       "\n",
       "                            Topic_urls  \n",
       "0         https://github.com/topics/3d  \n",
       "1       https://github.com/topics/ajax  \n",
       "2  https://github.com/topics/algorithm  \n",
       "3      https://github.com/topics/amphp  \n",
       "4    https://github.com/topics/android  "
      ]
     },
     "execution_count": 26,
     "metadata": {},
     "output_type": "execute_result"
    }
   ],
   "source": [
    "topic_df[:5]"
   ]
  },
  {
   "cell_type": "code",
   "execution_count": null,
   "metadata": {
    "id": "yJkLs_pZWAYr"
   },
   "outputs": [],
   "source": []
  },
  {
   "cell_type": "markdown",
   "metadata": {
    "id": "Whva5i95WAYr"
   },
   "source": [
    "### Create CSV file(s) with the extracted information"
   ]
  },
  {
   "cell_type": "code",
   "execution_count": 27,
   "metadata": {
    "id": "1ctTy3fSWAYs"
   },
   "outputs": [],
   "source": [
    "#save the pandas dataset in csv file\n",
    "topic_df.to_csv('Topics.csv',index = None)"
   ]
  },
  {
   "cell_type": "code",
   "execution_count": null,
   "metadata": {
    "id": "bLDJs7zRWAYs"
   },
   "outputs": [],
   "source": []
  },
  {
   "cell_type": "markdown",
   "metadata": {
    "id": "mko_St8AWAYs"
   },
   "source": [
    "### Document and share your work"
   ]
  },
  {
   "cell_type": "markdown",
   "metadata": {
    "id": "KoUkTI5jWAYt"
   },
   "source": [
    "-The dataset was save as csv for further analysis and dashboard visualisation\n",
    "-The dataset was share to different stakeholders "
   ]
  },
  {
   "cell_type": "code",
   "execution_count": null,
   "metadata": {
    "id": "5PFOjovrWAYt"
   },
   "outputs": [],
   "source": []
  }
 ],
 "metadata": {
  "colab": {
   "provenance": []
  },
  "kernelspec": {
   "display_name": "Python 3 (ipykernel)",
   "language": "python",
   "name": "python3"
  },
  "language_info": {
   "codemirror_mode": {
    "name": "ipython",
    "version": 3
   },
   "file_extension": ".py",
   "mimetype": "text/x-python",
   "name": "python",
   "nbconvert_exporter": "python",
   "pygments_lexer": "ipython3",
   "version": "3.9.13"
  }
 },
 "nbformat": 4,
 "nbformat_minor": 1
}
